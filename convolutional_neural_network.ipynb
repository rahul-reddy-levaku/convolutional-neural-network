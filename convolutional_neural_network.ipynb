{
 "cells": [
  {
   "cell_type": "code",
   "execution_count": 2,
   "id": "1094ce67-7248-413b-8805-37698d91de71",
   "metadata": {},
   "outputs": [
    {
     "data": {
      "text/plain": [
       "'2.17.0'"
      ]
     },
     "execution_count": 2,
     "metadata": {},
     "output_type": "execute_result"
    }
   ],
   "source": [
    "import tensorflow as tf\n",
    "from tensorflow.keras.preprocessing.image import ImageDataGenerator\n",
    "tf.__version__"
   ]
  },
  {
   "cell_type": "code",
   "execution_count": 13,
   "id": "e42ae6ee-740f-4635-88ab-efd70601e8af",
   "metadata": {},
   "outputs": [
    {
     "name": "stdout",
     "output_type": "stream",
     "text": [
      "Found 7093 images belonging to 2 classes.\n"
     ]
    }
   ],
   "source": [
    "train_datagen = ImageDataGenerator(rescale = 1./255,\n",
    "                                   shear_range = 0.2,\n",
    "                                   zoom_range = 0.2,\n",
    "                                   horizontal_flip = True)\n",
    "training_set = train_datagen.flow_from_directory(r\"C:\\Users\\pulla\\Downloads\\Section 40 - Convolutional Neural Networks (CNN)\\dataset\\training_set\",\n",
    "                                                 target_size = (64, 64),\n",
    "                                                 batch_size = 32,\n",
    "                                                 class_mode = 'binary')"
   ]
  },
  {
   "cell_type": "code",
   "execution_count": 15,
   "id": "a26186bb-0820-4740-9ff8-fb25eafcc384",
   "metadata": {},
   "outputs": [
    {
     "name": "stdout",
     "output_type": "stream",
     "text": [
      "Found 2000 images belonging to 2 classes.\n"
     ]
    }
   ],
   "source": [
    "test_datagen = ImageDataGenerator(rescale = 1./255)\n",
    "test_set = test_datagen.flow_from_directory(r\"C:\\Users\\pulla\\Downloads\\Section 40 - Convolutional Neural Networks (CNN)\\dataset\\test_set\",\n",
    "                                           target_size = (64, 64),\n",
    "                                           batch_size = 32,\n",
    "                                           class_mode = 'binary')\n",
    "\n"
   ]
  },
  {
   "cell_type": "code",
   "execution_count": 16,
   "id": "7b33b818-65a2-4c6a-9e91-9de57111a633",
   "metadata": {},
   "outputs": [],
   "source": [
    "cnn = tf.keras.models.Sequential()"
   ]
  },
  {
   "cell_type": "code",
   "execution_count": 24,
   "id": "300ad42b-9b8a-45db-ac43-37d0065d6afc",
   "metadata": {},
   "outputs": [],
   "source": [
    "cnn.add(tf.keras.layers.Conv2D(filters=32, kernel_size=3, activation='relu', input_shape=[64, 64, 3]))"
   ]
  },
  {
   "cell_type": "code",
   "execution_count": 25,
   "id": "90d09493-23cc-41ca-93d1-8e95b233ec2e",
   "metadata": {},
   "outputs": [],
   "source": [
    "cnn.add(tf.keras.layers.MaxPool2D(pool_size=2, strides=2))"
   ]
  },
  {
   "cell_type": "code",
   "execution_count": 26,
   "id": "8bc5e90c-9c99-47c3-a826-7db0dda2b0e1",
   "metadata": {},
   "outputs": [],
   "source": [
    "cnn.add(tf.keras.layers.Conv2D(filters=32, kernel_size=3, activation='relu'))\n",
    "cnn.add(tf.keras.layers.MaxPool2D(pool_size=2, strides=2))"
   ]
  },
  {
   "cell_type": "code",
   "execution_count": 27,
   "id": "bc3a11b6-13bd-41d6-8cc4-22e0e051da62",
   "metadata": {},
   "outputs": [],
   "source": [
    "cnn.add(tf.keras.layers.Flatten())"
   ]
  },
  {
   "cell_type": "code",
   "execution_count": 28,
   "id": "e8bdabbf-badd-4a19-a54b-6d3b7eff17df",
   "metadata": {},
   "outputs": [],
   "source": [
    "cnn.add(tf.keras.layers.Dense(units=128, activation='relu'))"
   ]
  },
  {
   "cell_type": "code",
   "execution_count": 29,
   "id": "3b4af535-c919-4d7e-bcbd-98fa1d65036c",
   "metadata": {},
   "outputs": [],
   "source": [
    "cnn.add(tf.keras.layers.Dense(units=1, activation='sigmoid'))"
   ]
  },
  {
   "cell_type": "code",
   "execution_count": 30,
   "id": "71b5dfd2-1e33-486b-ab6c-54710fd3cac8",
   "metadata": {},
   "outputs": [],
   "source": [
    "cnn.compile(optimizer = 'adam', loss = 'binary_crossentropy', metrics = ['accuracy'])"
   ]
  },
  {
   "cell_type": "code",
   "execution_count": 34,
   "id": "542ec9bb-d03b-4442-966b-0318ed2bd365",
   "metadata": {},
   "outputs": [
    {
     "name": "stdout",
     "output_type": "stream",
     "text": [
      "Epoch 1/25\n",
      "\u001b[1m222/222\u001b[0m \u001b[32m━━━━━━━━━━━━━━━━━━━━\u001b[0m\u001b[37m\u001b[0m \u001b[1m50s\u001b[0m 221ms/step - accuracy: 0.9184 - loss: 0.2039 - val_accuracy: 0.8065 - val_loss: 0.5636\n",
      "Epoch 2/25\n",
      "\u001b[1m222/222\u001b[0m \u001b[32m━━━━━━━━━━━━━━━━━━━━\u001b[0m\u001b[37m\u001b[0m \u001b[1m52s\u001b[0m 228ms/step - accuracy: 0.9242 - loss: 0.1898 - val_accuracy: 0.8100 - val_loss: 0.5446\n",
      "Epoch 3/25\n",
      "\u001b[1m222/222\u001b[0m \u001b[32m━━━━━━━━━━━━━━━━━━━━\u001b[0m\u001b[37m\u001b[0m \u001b[1m56s\u001b[0m 248ms/step - accuracy: 0.9208 - loss: 0.1768 - val_accuracy: 0.8070 - val_loss: 0.5886\n",
      "Epoch 4/25\n",
      "\u001b[1m222/222\u001b[0m \u001b[32m━━━━━━━━━━━━━━━━━━━━\u001b[0m\u001b[37m\u001b[0m \u001b[1m53s\u001b[0m 232ms/step - accuracy: 0.9387 - loss: 0.1629 - val_accuracy: 0.8120 - val_loss: 0.5534\n",
      "Epoch 5/25\n",
      "\u001b[1m222/222\u001b[0m \u001b[32m━━━━━━━━━━━━━━━━━━━━\u001b[0m\u001b[37m\u001b[0m \u001b[1m52s\u001b[0m 229ms/step - accuracy: 0.9365 - loss: 0.1552 - val_accuracy: 0.8155 - val_loss: 0.6156\n",
      "Epoch 6/25\n",
      "\u001b[1m222/222\u001b[0m \u001b[32m━━━━━━━━━━━━━━━━━━━━\u001b[0m\u001b[37m\u001b[0m \u001b[1m54s\u001b[0m 239ms/step - accuracy: 0.9426 - loss: 0.1452 - val_accuracy: 0.8110 - val_loss: 0.5646\n",
      "Epoch 7/25\n",
      "\u001b[1m222/222\u001b[0m \u001b[32m━━━━━━━━━━━━━━━━━━━━\u001b[0m\u001b[37m\u001b[0m \u001b[1m56s\u001b[0m 248ms/step - accuracy: 0.9428 - loss: 0.1444 - val_accuracy: 0.8160 - val_loss: 0.5736\n",
      "Epoch 8/25\n",
      "\u001b[1m222/222\u001b[0m \u001b[32m━━━━━━━━━━━━━━━━━━━━\u001b[0m\u001b[37m\u001b[0m \u001b[1m56s\u001b[0m 249ms/step - accuracy: 0.9490 - loss: 0.1296 - val_accuracy: 0.7975 - val_loss: 0.6151\n",
      "Epoch 9/25\n",
      "\u001b[1m222/222\u001b[0m \u001b[32m━━━━━━━━━━━━━━━━━━━━\u001b[0m\u001b[37m\u001b[0m \u001b[1m67s\u001b[0m 297ms/step - accuracy: 0.9510 - loss: 0.1272 - val_accuracy: 0.8100 - val_loss: 0.6531\n",
      "Epoch 10/25\n",
      "\u001b[1m222/222\u001b[0m \u001b[32m━━━━━━━━━━━━━━━━━━━━\u001b[0m\u001b[37m\u001b[0m \u001b[1m50s\u001b[0m 222ms/step - accuracy: 0.9514 - loss: 0.1299 - val_accuracy: 0.8115 - val_loss: 0.6565\n",
      "Epoch 11/25\n",
      "\u001b[1m222/222\u001b[0m \u001b[32m━━━━━━━━━━━━━━━━━━━━\u001b[0m\u001b[37m\u001b[0m \u001b[1m149s\u001b[0m 669ms/step - accuracy: 0.9523 - loss: 0.1200 - val_accuracy: 0.8090 - val_loss: 0.7023\n",
      "Epoch 12/25\n",
      "\u001b[1m222/222\u001b[0m \u001b[32m━━━━━━━━━━━━━━━━━━━━\u001b[0m\u001b[37m\u001b[0m \u001b[1m61s\u001b[0m 270ms/step - accuracy: 0.9583 - loss: 0.1162 - val_accuracy: 0.8120 - val_loss: 0.6344\n",
      "Epoch 13/25\n",
      "\u001b[1m222/222\u001b[0m \u001b[32m━━━━━━━━━━━━━━━━━━━━\u001b[0m\u001b[37m\u001b[0m \u001b[1m54s\u001b[0m 236ms/step - accuracy: 0.9617 - loss: 0.0938 - val_accuracy: 0.7950 - val_loss: 0.6684\n",
      "Epoch 14/25\n",
      "\u001b[1m222/222\u001b[0m \u001b[32m━━━━━━━━━━━━━━━━━━━━\u001b[0m\u001b[37m\u001b[0m \u001b[1m52s\u001b[0m 229ms/step - accuracy: 0.9575 - loss: 0.1138 - val_accuracy: 0.8155 - val_loss: 0.6553\n",
      "Epoch 15/25\n",
      "\u001b[1m222/222\u001b[0m \u001b[32m━━━━━━━━━━━━━━━━━━━━\u001b[0m\u001b[37m\u001b[0m \u001b[1m53s\u001b[0m 234ms/step - accuracy: 0.9553 - loss: 0.1166 - val_accuracy: 0.8230 - val_loss: 0.6616\n",
      "Epoch 16/25\n",
      "\u001b[1m222/222\u001b[0m \u001b[32m━━━━━━━━━━━━━━━━━━━━\u001b[0m\u001b[37m\u001b[0m \u001b[1m53s\u001b[0m 234ms/step - accuracy: 0.9665 - loss: 0.0951 - val_accuracy: 0.8220 - val_loss: 0.7211\n",
      "Epoch 17/25\n",
      "\u001b[1m222/222\u001b[0m \u001b[32m━━━━━━━━━━━━━━━━━━━━\u001b[0m\u001b[37m\u001b[0m \u001b[1m53s\u001b[0m 233ms/step - accuracy: 0.9645 - loss: 0.1036 - val_accuracy: 0.8115 - val_loss: 0.7137\n",
      "Epoch 18/25\n",
      "\u001b[1m222/222\u001b[0m \u001b[32m━━━━━━━━━━━━━━━━━━━━\u001b[0m\u001b[37m\u001b[0m \u001b[1m53s\u001b[0m 233ms/step - accuracy: 0.9644 - loss: 0.1039 - val_accuracy: 0.8190 - val_loss: 0.7040\n",
      "Epoch 19/25\n",
      "\u001b[1m222/222\u001b[0m \u001b[32m━━━━━━━━━━━━━━━━━━━━\u001b[0m\u001b[37m\u001b[0m \u001b[1m52s\u001b[0m 231ms/step - accuracy: 0.9726 - loss: 0.0786 - val_accuracy: 0.8015 - val_loss: 0.7590\n",
      "Epoch 20/25\n",
      "\u001b[1m222/222\u001b[0m \u001b[32m━━━━━━━━━━━━━━━━━━━━\u001b[0m\u001b[37m\u001b[0m \u001b[1m52s\u001b[0m 229ms/step - accuracy: 0.9712 - loss: 0.0792 - val_accuracy: 0.8190 - val_loss: 0.7967\n",
      "Epoch 21/25\n",
      "\u001b[1m222/222\u001b[0m \u001b[32m━━━━━━━━━━━━━━━━━━━━\u001b[0m\u001b[37m\u001b[0m \u001b[1m53s\u001b[0m 234ms/step - accuracy: 0.9691 - loss: 0.0895 - val_accuracy: 0.8065 - val_loss: 0.7878\n",
      "Epoch 22/25\n",
      "\u001b[1m222/222\u001b[0m \u001b[32m━━━━━━━━━━━━━━━━━━━━\u001b[0m\u001b[37m\u001b[0m \u001b[1m53s\u001b[0m 234ms/step - accuracy: 0.9709 - loss: 0.0833 - val_accuracy: 0.8080 - val_loss: 0.7849\n",
      "Epoch 23/25\n",
      "\u001b[1m222/222\u001b[0m \u001b[32m━━━━━━━━━━━━━━━━━━━━\u001b[0m\u001b[37m\u001b[0m \u001b[1m53s\u001b[0m 235ms/step - accuracy: 0.9697 - loss: 0.0794 - val_accuracy: 0.8015 - val_loss: 0.8666\n",
      "Epoch 24/25\n",
      "\u001b[1m222/222\u001b[0m \u001b[32m━━━━━━━━━━━━━━━━━━━━\u001b[0m\u001b[37m\u001b[0m \u001b[1m51s\u001b[0m 223ms/step - accuracy: 0.9709 - loss: 0.0791 - val_accuracy: 0.8175 - val_loss: 0.7643\n",
      "Epoch 25/25\n",
      "\u001b[1m222/222\u001b[0m \u001b[32m━━━━━━━━━━━━━━━━━━━━\u001b[0m\u001b[37m\u001b[0m \u001b[1m53s\u001b[0m 232ms/step - accuracy: 0.9700 - loss: 0.0773 - val_accuracy: 0.8090 - val_loss: 0.8229\n"
     ]
    },
    {
     "data": {
      "text/plain": [
       "<keras.src.callbacks.history.History at 0x16037f209a0>"
      ]
     },
     "execution_count": 34,
     "metadata": {},
     "output_type": "execute_result"
    }
   ],
   "source": [
    "cnn.fit(x = training_set, validation_data = test_set, epochs = 25)"
   ]
  },
  {
   "cell_type": "code",
   "execution_count": 41,
   "id": "cacb81d3-3bbd-4a9d-9542-6d84160348f3",
   "metadata": {},
   "outputs": [
    {
     "name": "stdout",
     "output_type": "stream",
     "text": [
      "\u001b[1m1/1\u001b[0m \u001b[32m━━━━━━━━━━━━━━━━━━━━\u001b[0m\u001b[37m\u001b[0m \u001b[1m0s\u001b[0m 231ms/step\n",
      "dog\n"
     ]
    }
   ],
   "source": [
    "import numpy as np\n",
    "from keras.preprocessing import image\n",
    "test_image = image.load_img(r\"C:\\Users\\pulla\\Downloads\\single_prediction\\cat_or_dog_1.jpg\", target_size = (64, 64))\n",
    "test_image = image.img_to_array(test_image)\n",
    "test_image = np.expand_dims(test_image, axis = 0)\n",
    "result = cnn.predict(test_image)\n",
    "training_set.class_indices\n",
    "if result[0][0] == 1:\n",
    "    prediction = 'dog'\n",
    "else:\n",
    "    prediction = 'cat'\n",
    "print(prediction)\n"
   ]
  },
  {
   "cell_type": "code",
   "execution_count": null,
   "id": "3f4afff5-e18a-4a77-902b-b4a178907ae7",
   "metadata": {},
   "outputs": [],
   "source": []
  }
 ],
 "metadata": {
  "kernelspec": {
   "display_name": "Python 3 (ipykernel)",
   "language": "python",
   "name": "python3"
  },
  "language_info": {
   "codemirror_mode": {
    "name": "ipython",
    "version": 3
   },
   "file_extension": ".py",
   "mimetype": "text/x-python",
   "name": "python",
   "nbconvert_exporter": "python",
   "pygments_lexer": "ipython3",
   "version": "3.10.8"
  }
 },
 "nbformat": 4,
 "nbformat_minor": 5
}
